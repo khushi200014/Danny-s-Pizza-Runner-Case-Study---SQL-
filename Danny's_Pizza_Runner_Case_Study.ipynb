{
  "nbformat": 4,
  "nbformat_minor": 0,
  "metadata": {
    "colab": {
      "provenance": [],
      "authorship_tag": "ABX9TyNEQUyZBmbaoBznlBvDfDGs",
      "include_colab_link": true
    },
    "kernelspec": {
      "name": "python3",
      "display_name": "Python 3"
    },
    "language_info": {
      "name": "python"
    }
  },
  "cells": [
    {
      "cell_type": "markdown",
      "metadata": {
        "id": "view-in-github",
        "colab_type": "text"
      },
      "source": [
        "<a href=\"https://colab.research.google.com/github/khushi200014/Danny-s-Pizza-Runner-Case-Study---SQL-/blob/main/Danny's_Pizza_Runner_Case_Study.ipynb\" target=\"_parent\"><img src=\"https://colab.research.google.com/assets/colab-badge.svg\" alt=\"Open In Colab\"/></a>"
      ]
    },
    {
      "cell_type": "code",
      "source": [
        "from google.colab import files\n",
        "files.download('pizza_runner.db')\n"
      ],
      "metadata": {
        "id": "t5AGKw7wWq9W"
      },
      "execution_count": null,
      "outputs": []
    },
    {
      "cell_type": "code",
      "source": [
        "from google.colab import files\n",
        "uploaded = files.upload()  # Upload your dataset CSV file\n"
      ],
      "metadata": {
        "id": "EGDKGhodWq58"
      },
      "execution_count": null,
      "outputs": []
    },
    {
      "cell_type": "code",
      "source": [
        "import pandas as pd\n",
        "\n",
        "# Assuming you uploaded 'orders.csv' with columns: order_id, order_date, order_time, delivery_time_minutes\n",
        "df = pd.read_csv('orders.csv')\n",
        "\n",
        "# Insert data from the DataFrame into the orders table\n",
        "df.to_sql('orders', conn, if_exists='append', index=False)\n"
      ],
      "metadata": {
        "id": "j6zsiZnNWq3i"
      },
      "execution_count": null,
      "outputs": []
    },
    {
      "cell_type": "code",
      "execution_count": 1,
      "metadata": {
        "colab": {
          "base_uri": "https://localhost:8080/"
        },
        "id": "YTSr0bH-WY4k",
        "outputId": "09c4fd85-353b-42bd-9903-aaf25ad67ea2"
      },
      "outputs": [
        {
          "output_type": "stream",
          "name": "stdout",
          "text": [
            "Delivery Performance:\n",
            "    total_orders  avg_delivery_time\n",
            "0            10               30.5\n",
            "\n",
            "Peak Business Hours:\n",
            "   hour_of_day  orders_count\n",
            "0          18             3\n",
            "1          21             2\n",
            "2          20             2\n",
            "3          19             2\n",
            "4          22             1\n",
            "\n",
            "Busiest Day:\n",
            "   day_of_week  orders_count\n",
            "0      Friday             3\n"
          ]
        }
      ],
      "source": [
        "import sqlite3\n",
        "import pandas as pd\n",
        "\n",
        "# Step 1: Connect to SQLite database (or create it if it doesn't exist)\n",
        "conn = sqlite3.connect('pizza_runner.db')\n",
        "cursor = conn.cursor()\n",
        "\n",
        "# Step 2: Create the orders table\n",
        "cursor.execute('''\n",
        "    CREATE TABLE IF NOT EXISTS orders (\n",
        "        order_id INTEGER PRIMARY KEY,\n",
        "        order_date DATE,\n",
        "        order_time TIME,\n",
        "        delivery_time_minutes INTEGER\n",
        "    )\n",
        "''')\n",
        "\n",
        "# Step 3: Insert sample data into the orders table\n",
        "orders_data = [\n",
        "    (1, '2024-03-01', '18:30:00', 30),\n",
        "    (2, '2024-03-01', '19:15:00', 25),\n",
        "    (3, '2024-03-02', '20:00:00', 40),\n",
        "    (4, '2024-03-03', '21:30:00', 35),\n",
        "    (5, '2024-03-04', '22:00:00', 20),\n",
        "    (6, '2024-03-05', '18:45:00', 15),\n",
        "    (7, '2024-03-06', '19:30:00', 50),\n",
        "    (8, '2024-03-07', '20:15:00', 30),\n",
        "    (9, '2024-03-08', '21:00:00', 40),\n",
        "    (10, '2024-03-09', '18:30:00', 20)\n",
        "]\n",
        "\n",
        "cursor.executemany('''\n",
        "    INSERT INTO orders (order_id, order_date, order_time, delivery_time_minutes)\n",
        "    VALUES (?, ?, ?, ?)\n",
        "''', orders_data)\n",
        "\n",
        "conn.commit()\n",
        "\n",
        "# Step 4: Query 1 - Analyzing delivery performance\n",
        "query1 = '''\n",
        "    SELECT\n",
        "        COUNT(*) AS total_orders,\n",
        "        AVG(delivery_time_minutes) AS avg_delivery_time\n",
        "    FROM orders\n",
        "'''\n",
        "result1 = pd.read_sql_query(query1, conn)\n",
        "print(\"Delivery Performance:\\n\", result1)\n",
        "\n",
        "# Step 5: Query 2 - Identifying peak business hours\n",
        "query2 = '''\n",
        "    SELECT\n",
        "        strftime('%H', order_time) AS hour_of_day,\n",
        "        COUNT(*) AS orders_count\n",
        "    FROM orders\n",
        "    GROUP BY hour_of_day\n",
        "    ORDER BY orders_count DESC\n",
        "    LIMIT 5\n",
        "'''\n",
        "result2 = pd.read_sql_query(query2, conn)\n",
        "print(\"\\nPeak Business Hours:\\n\", result2)\n",
        "\n",
        "# Step 6: Query 3 - Identifying the busiest day\n",
        "query3 = '''\n",
        "    SELECT\n",
        "        CASE strftime('%w', order_date)\n",
        "            WHEN '0' THEN 'Sunday'\n",
        "            WHEN '1' THEN 'Monday'\n",
        "            WHEN '2' THEN 'Tuesday'\n",
        "            WHEN '3' THEN 'Wednesday'\n",
        "            WHEN '4' THEN 'Thursday'\n",
        "            WHEN '5' THEN 'Friday'\n",
        "            WHEN '6' THEN 'Saturday'\n",
        "        END AS day_of_week,\n",
        "        COUNT(*) AS orders_count\n",
        "    FROM orders\n",
        "    GROUP BY strftime('%w', order_date)\n",
        "    ORDER BY orders_count DESC\n",
        "    LIMIT 1\n",
        "'''\n",
        "result3 = pd.read_sql_query(query3, conn)\n",
        "print(\"\\nBusiest Day:\\n\", result3)\n",
        "\n",
        "# Step 7: Close the connection\n",
        "conn.close()\n"
      ]
    },
    {
      "cell_type": "code",
      "source": [],
      "metadata": {
        "id": "R6jv6tgsWcWd"
      },
      "execution_count": null,
      "outputs": []
    }
  ]
}